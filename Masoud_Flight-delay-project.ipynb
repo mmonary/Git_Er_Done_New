{
 "cells": [
  {
   "cell_type": "code",
   "execution_count": null,
   "metadata": {},
   "outputs": [],
   "source": [
    "#Dependencies:\n",
    "import pandas as pd\n",
    "import matplotlib.pyplot as plt\n",
    "import numpy as np\n",
    "import requests\n",
    "from scipy.stats import linregress\n",
    "import time\n",
    "import json\n",
    "import os\n",
    "from pathlib import Path\n",
    "import hvplot.pandas\n",
    "\n",
    "#Files to load\n",
    "airline_data_to_load = Path(\"Resources/airlines.csv\")\n",
    "airport_data_to_load = Path(\"Resources/airports.csv\")\n",
    "flights_data_to_load = Path(\"Resources/flights200501.csv\")\n",
    "\n",
    "#Read the data and store it in a Pandas dataframe\n",
    "airline_data = pd.read_csv(airline_data_to_load)\n",
    "airport_data = pd.read_csv(airport_data_to_load)\n",
    "flights_data = pd.read_csv(flights_data_to_load)\n",
    "\n",
    "#Clean the data to have same column names\n",
    "airline_data.rename(columns={\"AIRLINE\": \"AIRLINE_NAME\"}, inplace=True)\n",
    "airline_data.rename(columns={\"IATA_CODE\": \"AIRLINE\"}, inplace=True)\n",
    "airport_data.rename(columns={\"IATA_CODE\": \"ORIGIN_AIRPORT\"}, inplace=True)\n",
    "\n",
    "#Combine the data into a single dataframe\n",
    "flight_data_complete = pd.merge(flights_data, airline_data, on=\"AIRLINE\", how=\"left\")\n",
    "flight_data_complete = pd.merge(flight_data_complete, airport_data, on=\"ORIGIN_AIRPORT\", how=\"left\")\n",
    "flight_data_complete"
   ]
  },
  {
   "cell_type": "code",
   "execution_count": null,
   "metadata": {},
   "outputs": [],
   "source": [
    "#Clean the data and fill the missing values with 0\n",
    "flight_data_cleaned=flight_data_complete.fillna(\"0\")\n",
    "flight_data_cleaned"
   ]
  },
  {
   "cell_type": "code",
   "execution_count": null,
   "metadata": {},
   "outputs": [],
   "source": [
    "#Check to insure there are no null values\n",
    "null_count= flight_data_cleaned.isnull().sum()\n",
    "null_count"
   ]
  },
  {
   "cell_type": "code",
   "execution_count": null,
   "metadata": {},
   "outputs": [],
   "source": [
    "#What is the average delay time for each airline\n",
    "\n",
    "#Create a new dataframe that contains the airline delays that are greater than zero\n",
    "flight_data_cleaned['AIRLINE_DELAY'] = flight_data_cleaned['AIRLINE_DELAY'].astype(float)\n",
    "flights_delayed_df = flight_data_cleaned.loc[flight_data_cleaned['AIRLINE_DELAY'] > 0]\n",
    "flights_delayed_df"
   ]
  },
  {
   "cell_type": "code",
   "execution_count": null,
   "metadata": {},
   "outputs": [],
   "source": [
    "#What is the average delay time for each airline\n",
    "\n",
    "#Find the average delay time for each airline using groupby \n",
    "average_delay= flights_delayed_df.groupby([\"AIRLINE\"])[\"AIRLINE_DELAY\"].mean()\n",
    "average_delay"
   ]
  },
  {
   "cell_type": "code",
   "execution_count": null,
   "metadata": {},
   "outputs": [],
   "source": [
    "#Find the average delay of each origin airport\n",
    "\n",
    "origin_delay= flights_delayed_df.groupby([\"ORIGIN_AIRPORT\"])[\"AIRLINE_DELAY\"].mean()\n",
    "origin_delay"
   ]
  },
  {
   "cell_type": "code",
   "execution_count": null,
   "metadata": {},
   "outputs": [],
   "source": [
    "origin_delay.describe()"
   ]
  },
  {
   "cell_type": "code",
   "execution_count": null,
   "metadata": {},
   "outputs": [],
   "source": [
    "#What origin airport has the highest amount of delayed flights\n",
    "\n",
    "max_origin_delay = flights_delayed_df.groupby(\"ORIGIN_AIRPORT\")[\"AIRLINE_DELAY\"].max()\n",
    "max_delay = max_origin_delay.max()\n",
    "origin_airport_with_max_delay = max_origin_delay.idxmax()\n",
    "print(f\"The origin airport with the maximum delay is {origin_airport_with_max_delay} with a delay of {max_delay}\")"
   ]
  },
  {
   "cell_type": "code",
   "execution_count": null,
   "metadata": {},
   "outputs": [],
   "source": [
    "#Find the average delay of each destination airport\n",
    "\n",
    "destination_delay= flights_delayed_df.groupby([\"DESTINATION_AIRPORT\"])[\"AIRLINE_DELAY\"].mean()\n",
    "destination_delay"
   ]
  },
  {
   "cell_type": "code",
   "execution_count": null,
   "metadata": {},
   "outputs": [],
   "source": [
    "#What destination airport has the highest amount of delayed flights\n",
    "\n",
    "max_destination_delay = flights_delayed_df.groupby(\"DESTINATION_AIRPORT\")[\"AIRLINE_DELAY\"].max()\n",
    "max_delay = max_origin_delay.max()\n",
    "destination_airport_with_max_delay = max_destination_delay.idxmax()\n",
    "print(f\"The destination airport with the maximum delay is {destination_airport_with_max_delay} with a delay of {max_delay}\")"
   ]
  },
  {
   "attachments": {},
   "cell_type": "markdown",
   "metadata": {},
   "source": [
    "## Add weather API"
   ]
  },
  {
   "cell_type": "code",
   "execution_count": null,
   "metadata": {},
   "outputs": [],
   "source": [
    "\n",
    "from datetime import datetime\n",
    "import requests\n",
    "import datetime\n",
    "import json\n",
    "#from api_key import weather_api_key\n",
    "city= \"New York\"\n",
    "# Weather Conditions\n",
    "def check_weather_conditions(city):\n",
    "    api_key = 'c814fd06541d5a7da030ffbac017e5b3'\n",
    "    url = f'http://api.weatherapi.com/v1/current.json?key={api_key}&q={city}'\n",
    "    response = requests.get(url)\n",
    "    data = json.loads(response.text)\n",
    "    current_condition = data['current']['condition']['text']\n",
    "    return current_condition"
   ]
  },
  {
   "cell_type": "code",
   "execution_count": null,
   "metadata": {},
   "outputs": [],
   "source": [
    "def get_weather_conditions():\n",
    "    # Make an API call to fetch weather data from a reliable weather service provider\n",
    "    # You may need to sign up for an API key and replace 'API_KEY' with your actual key\n",
    "    response = requests.get('https://api.weatherprovider.com/conditions?api_key=API_KEY')\n",
    "    data = json.loads(response.text)\n",
    "\n",
    "    # Extract relevant weather information, such as temperature, precipitation, etc.\n",
    "    temperature = data['temperature']\n",
    "    precipitation = data['precipitation']\n",
    "    # ...\n",
    "\n",
    "    return temperature, precipitation"
   ]
  },
  {
   "attachments": {},
   "cell_type": "markdown",
   "metadata": {},
   "source": [
    "## Air Traffic Congestion"
   ]
  },
  {
   "cell_type": "code",
   "execution_count": null,
   "metadata": {},
   "outputs": [],
   "source": [
    "def check_air_traffic_congestion(airport):\n",
    "    api_key = 'your_traffic_api_key'\n",
    "    url = f'http://api.trafficapi.com/traffic/current/flow?key={api_key}&loc={airport}'\n",
    "    response = requests.get(url)\n",
    "    data = json.loads(response.text)\n",
    "    congestion_level = data['current']['congestion']['level']\n",
    "    return congestion_level"
   ]
  },
  {
   "cell_type": "code",
   "execution_count": null,
   "metadata": {},
   "outputs": [],
   "source": [
    "def check_air_traffic_congestion():\n",
    "    # Implement your logic to check air traffic congestion\n",
    "    # You can consider factors like flight density, airport capacity, and historical data\n",
    "    congestion_level = 0.8  # Example value indicating high congestion\n",
    "\n",
    "    return congestion_level"
   ]
  },
  {
   "attachments": {},
   "cell_type": "markdown",
   "metadata": {},
   "source": [
    "## Mechanical Issues"
   ]
  },
  {
   "cell_type": "code",
   "execution_count": null,
   "metadata": {},
   "outputs": [],
   "source": [
    "def check_mechanical_issues(flight_number):\n",
    "    # Check database or airline's system for maintenance status of the aircraft\n",
    "    # Return True if there are mechanical issues, False otherwise\n",
    "    return False"
   ]
  },
  {
   "cell_type": "code",
   "execution_count": null,
   "metadata": {},
   "outputs": [],
   "source": [
    "def simulate_mechanical_issues():\n",
    "    # Implement your logic to simulate mechanical issues\n",
    "    # You can use random numbers or predefined probabilities to determine if a mechanical issue occurs\n",
    "    has_issue = False  # Example value indicating no mechanical issue\n",
    "\n",
    "    return has_issue"
   ]
  },
  {
   "attachments": {},
   "cell_type": "markdown",
   "metadata": {},
   "source": [
    "## Define a function to simulate security procedures:"
   ]
  },
  {
   "cell_type": "code",
   "execution_count": null,
   "metadata": {},
   "outputs": [],
   "source": [
    "def simulate_security_procedures():\n",
    "    # Implement your logic to simulate security procedures\n",
    "    # You can consider factors like passenger volume, staffing levels, and historical data\n",
    "    delay_minutes = 0  # Example value indicating no delay\n",
    "\n",
    "    return delay_minutes"
   ]
  },
  {
   "attachments": {},
   "cell_type": "markdown",
   "metadata": {},
   "source": [
    "## Define a function to simulate late arrival of previous flight:"
   ]
  },
  {
   "cell_type": "code",
   "execution_count": null,
   "metadata": {},
   "outputs": [],
   "source": [
    "def simulate_late_arrival():\n",
    "    # Implement your logic to simulate late arrival of previous flight\n",
    "    # You can use random numbers or predefined probabilities to determine if a late arrival occurs\n",
    "    is_late = False  # Example value indicating no late arrival\n",
    "\n",
    "    return is_late"
   ]
  },
  {
   "attachments": {},
   "cell_type": "markdown",
   "metadata": {},
   "source": [
    "## Define a function to check airline scheduling and planning:"
   ]
  },
  {
   "cell_type": "code",
   "execution_count": null,
   "metadata": {},
   "outputs": [],
   "source": [
    "def check_airline_schedule():\n",
    "    # Implement your logic to check airline scheduling and planning\n",
    "    # You can consider factors like crew availability, aircraft availability, and market demand\n",
    "    is_disrupted = False  # Example value indicating no disruption\n",
    "\n",
    "    return is_disrupted"
   ]
  },
  {
   "attachments": {},
   "cell_type": "markdown",
   "metadata": {},
   "source": [
    "## Define a function to check airport operations:"
   ]
  },
  {
   "cell_type": "code",
   "execution_count": null,
   "metadata": {},
   "outputs": [],
   "source": [
    "def check_airport_operations():\n",
    "    # Implement your logic to check airport operations\n",
    "    # You can consider factors like ground crew availability, equipment status, and runway conditions\n",
    "    has_issue = False  # Example value indicating no issue\n",
    "\n",
    "    return has_issue"
   ]
  },
  {
   "attachments": {},
   "cell_type": "markdown",
   "metadata": {},
   "source": [
    "## Define a function to check airline or crew-related factors:"
   ]
  },
  {
   "cell_type": "code",
   "execution_count": null,
   "metadata": {},
   "outputs": [],
   "source": [
    "def check_airline_crew_factors():\n",
    "    # Implement your logic to check airline or crew-related factors\n",
    "    # You can consider factors like crew scheduling, working hours, and staffing issues\n",
    "    has_issue = False  # Example value indicating no issue\n",
    "\n",
    "    return has_issue"
   ]
  },
  {
   "attachments": {},
   "cell_type": "markdown",
   "metadata": {},
   "source": [
    "## Define a function to check airline overbooking:"
   ]
  },
  {
   "cell_type": "code",
   "execution_count": null,
   "metadata": {},
   "outputs": [],
   "source": [
    "def check_airline_overbooking():\n",
    "    # Implement your logic to check airline overbooking\n",
    "    # You can consider factors like available seats, booked passengers, and historical data\n",
    "    has_issue = False  # Example value indicating no issue\n",
    "\n",
    "    return has_issue"
   ]
  },
  {
   "attachments": {},
   "cell_type": "markdown",
   "metadata": {},
   "source": [
    "Define the main function to analyze flight delays based on different factors:"
   ]
  },
  {
   "cell_type": "code",
   "execution_count": null,
   "metadata": {},
   "outputs": [],
   "source": [
    "def analyze_flight_delays():\n",
    "    temperature, precipitation = get_weather_conditions()\n",
    "    congestion_level = check_air_traffic_congestion()\n",
    "    has_mechanical_issue = simulate_mechanical_issues()\n",
    "    security_delay_minutes = simulate_security_procedures()\n",
    "    is_late_arrival = simulate_late_arrival()\n",
    "    is_schedule_disrupted = check_airline_schedule()\n",
    "    has_airport_issue = check_airport_operations()\n",
    "    has_airline_crew_issue = check_airline_crew_factors()\n",
    "    has_overbooking_issue = check_airline_overbooking()\n",
    "\n",
    "    # Analyze the factors and determine the delay or cancellation status\n",
    "    if temperature > 30:\n",
    "        print(\"Flight delayed due to high temperature.\")\n",
    "    elif precipitation > 0.5:\n",
    "        print(\"Flight delayed due to heavy rainfall.\")\n",
    "    elif congestion_level > 0.7:\n",
    "        print(\"Flight delayed due to high air traffic congestion.\")\n",
    "    elif has_mechanical_issue:\n",
    "        print(\"Flight delayed due to mechanical issues.\")\n",
    "    elif security_delay_minutes > 30:\n",
    "        print(\"Flight delayed due to security procedures.\")\n",
    "    elif is_late_arrival:\n",
    "        print(\"Flight delayed due to late arrival of previous flight.\")\n",
    "    elif is_schedule_disrupted:\n",
    "        print(\"Flight delayed due to airline scheduling and planning issues.\")\n",
    "    elif has_airport_issue:\n",
    "        print(\"Flight delayed due to airport operations issues.\")\n",
    "    elif has_airline_crew_issue:\n",
    "        print(\"Flight delayed due to airline or crew-related factors.\")\n",
    "    elif has_overbooking_issue:\n",
    "        print(\"Flight delayed due to airline overbooking.\")\n",
    "    else:\n",
    "        print(\"No delay or cancellation. Flight is on schedule.\")"
   ]
  },
  {
   "attachments": {},
   "cell_type": "markdown",
   "metadata": {},
   "source": [
    "## Call the main function to run the analysis:"
   ]
  },
  {
   "cell_type": "code",
   "execution_count": null,
   "metadata": {},
   "outputs": [],
   "source": [
    "analyze_flight_delays()"
   ]
  }
 ],
 "metadata": {
  "kernelspec": {
   "display_name": "base",
   "language": "python",
   "name": "python3"
  },
  "language_info": {
   "codemirror_mode": {
    "name": "ipython",
    "version": 3
   },
   "file_extension": ".py",
   "mimetype": "text/x-python",
   "name": "python",
   "nbconvert_exporter": "python",
   "pygments_lexer": "ipython3",
   "version": "3.9.13"
  },
  "orig_nbformat": 4
 },
 "nbformat": 4,
 "nbformat_minor": 2
}
